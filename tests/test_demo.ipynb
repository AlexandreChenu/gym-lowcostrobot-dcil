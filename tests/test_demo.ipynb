{
 "cells": [
  {
   "cell_type": "code",
   "execution_count": 1,
   "metadata": {},
   "outputs": [],
   "source": [
    "import pandas as pd\n",
    "import gymnasium as gym\n",
    "\n",
    "import gym_lowcostrobot  # noqa"
   ]
  },
  {
   "cell_type": "code",
   "execution_count": 9,
   "metadata": {},
   "outputs": [],
   "source": [
    "df_demo = pd.read_parquet('/Users/achenu/Documents/Research/robotics/github_repos/gym-lowcostrobot/demos/train-00000-of-00001_simu.parquet', engine='pyarrow')"
   ]
  },
  {
   "cell_type": "code",
   "execution_count": 10,
   "metadata": {},
   "outputs": [
    {
     "data": {
      "text/plain": [
       "Index(['observation.state', 'action', 'episode_index', 'frame_index',\n",
       "       'timestamp', 'next.done', 'index', 'observation.images.top',\n",
       "       'observation.images.front'],\n",
       "      dtype='object')"
      ]
     },
     "execution_count": 10,
     "metadata": {},
     "output_type": "execute_result"
    }
   ],
   "source": [
    "df_demo.columns"
   ]
  },
  {
   "cell_type": "code",
   "execution_count": 11,
   "metadata": {},
   "outputs": [
    {
     "data": {
      "text/html": [
       "<div>\n",
       "<style scoped>\n",
       "    .dataframe tbody tr th:only-of-type {\n",
       "        vertical-align: middle;\n",
       "    }\n",
       "\n",
       "    .dataframe tbody tr th {\n",
       "        vertical-align: top;\n",
       "    }\n",
       "\n",
       "    .dataframe thead th {\n",
       "        text-align: right;\n",
       "    }\n",
       "</style>\n",
       "<table border=\"1\" class=\"dataframe\">\n",
       "  <thead>\n",
       "    <tr style=\"text-align: right;\">\n",
       "      <th></th>\n",
       "      <th>observation.state</th>\n",
       "      <th>action</th>\n",
       "      <th>episode_index</th>\n",
       "      <th>frame_index</th>\n",
       "      <th>timestamp</th>\n",
       "      <th>next.done</th>\n",
       "      <th>index</th>\n",
       "      <th>observation.images.top</th>\n",
       "      <th>observation.images.front</th>\n",
       "    </tr>\n",
       "  </thead>\n",
       "  <tbody>\n",
       "    <tr>\n",
       "      <th>0</th>\n",
       "      <td>[0.07389037, 0.26932847, -6.5935144, 1.0578214...</td>\n",
       "      <td>[-4.482422, 107.92969, 114.697266, 57.74414, -...</td>\n",
       "      <td>0</td>\n",
       "      <td>0</td>\n",
       "      <td>0.000000</td>\n",
       "      <td>False</td>\n",
       "      <td>0</td>\n",
       "      <td>{'path': 'videos/image_top_episode_000000.mp4'...</td>\n",
       "      <td>{'path': 'videos/image_front_episode_000000.mp...</td>\n",
       "    </tr>\n",
       "    <tr>\n",
       "      <th>1</th>\n",
       "      <td>[0.07045941, 0.23433155, -6.481187, 1.0690894,...</td>\n",
       "      <td>[-4.482422, 107.92969, 114.697266, 57.83203, -...</td>\n",
       "      <td>0</td>\n",
       "      <td>1</td>\n",
       "      <td>0.033292</td>\n",
       "      <td>False</td>\n",
       "      <td>1</td>\n",
       "      <td>{'path': 'videos/image_top_episode_000000.mp4'...</td>\n",
       "      <td>{'path': 'videos/image_front_episode_000000.mp...</td>\n",
       "    </tr>\n",
       "    <tr>\n",
       "      <th>2</th>\n",
       "      <td>[0.06931645, 0.20509058, -6.383348, 1.0560966,...</td>\n",
       "      <td>[-4.3945312, 107.92969, 114.697266, 57.83203, ...</td>\n",
       "      <td>0</td>\n",
       "      <td>2</td>\n",
       "      <td>0.066583</td>\n",
       "      <td>False</td>\n",
       "      <td>2</td>\n",
       "      <td>{'path': 'videos/image_top_episode_000000.mp4'...</td>\n",
       "      <td>{'path': 'videos/image_front_episode_000000.mp...</td>\n",
       "    </tr>\n",
       "    <tr>\n",
       "      <th>3</th>\n",
       "      <td>[0.06931302, 0.17766452, -6.302839, 1.0302716,...</td>\n",
       "      <td>[-4.482422, 107.92969, 114.697266, 57.83203, -...</td>\n",
       "      <td>0</td>\n",
       "      <td>3</td>\n",
       "      <td>0.099875</td>\n",
       "      <td>False</td>\n",
       "      <td>3</td>\n",
       "      <td>{'path': 'videos/image_top_episode_000000.mp4'...</td>\n",
       "      <td>{'path': 'videos/image_front_episode_000000.mp...</td>\n",
       "    </tr>\n",
       "    <tr>\n",
       "      <th>4</th>\n",
       "      <td>[0.06893597, 0.15063426, -6.240298, 0.9993672,...</td>\n",
       "      <td>[-4.482422, 107.92969, 114.697266, 57.83203, -...</td>\n",
       "      <td>0</td>\n",
       "      <td>4</td>\n",
       "      <td>0.133167</td>\n",
       "      <td>False</td>\n",
       "      <td>4</td>\n",
       "      <td>{'path': 'videos/image_top_episode_000000.mp4'...</td>\n",
       "      <td>{'path': 'videos/image_front_episode_000000.mp...</td>\n",
       "    </tr>\n",
       "    <tr>\n",
       "      <th>...</th>\n",
       "      <td>...</td>\n",
       "      <td>...</td>\n",
       "      <td>...</td>\n",
       "      <td>...</td>\n",
       "      <td>...</td>\n",
       "      <td>...</td>\n",
       "      <td>...</td>\n",
       "      <td>...</td>\n",
       "      <td>...</td>\n",
       "    </tr>\n",
       "    <tr>\n",
       "      <th>2654</th>\n",
       "      <td>[0.42263815, -0.11853333, -5.3212786, 1.047656...</td>\n",
       "      <td>[-24.785156, 95.009766, 62.314453, 65.91797, -...</td>\n",
       "      <td>5</td>\n",
       "      <td>345</td>\n",
       "      <td>10.933865</td>\n",
       "      <td>False</td>\n",
       "      <td>2654</td>\n",
       "      <td>{'path': 'videos/image_top_episode_000005.mp4'...</td>\n",
       "      <td>{'path': 'videos/image_front_episode_000005.mp...</td>\n",
       "    </tr>\n",
       "    <tr>\n",
       "      <th>2655</th>\n",
       "      <td>[0.42265168, -0.12006875, -5.321289, 1.0461272...</td>\n",
       "      <td>[-24.785156, 94.921875, 62.314453, 65.83008, -...</td>\n",
       "      <td>5</td>\n",
       "      <td>346</td>\n",
       "      <td>10.965556</td>\n",
       "      <td>False</td>\n",
       "      <td>2655</td>\n",
       "      <td>{'path': 'videos/image_top_episode_000005.mp4'...</td>\n",
       "      <td>{'path': 'videos/image_front_episode_000005.mp...</td>\n",
       "    </tr>\n",
       "    <tr>\n",
       "      <th>2656</th>\n",
       "      <td>[0.4226674, -0.121603645, -5.321298, 1.0461314...</td>\n",
       "      <td>[-24.785156, 94.833984, 62.314453, 65.83008, -...</td>\n",
       "      <td>5</td>\n",
       "      <td>347</td>\n",
       "      <td>10.997249</td>\n",
       "      <td>False</td>\n",
       "      <td>2656</td>\n",
       "      <td>{'path': 'videos/image_top_episode_000005.mp4'...</td>\n",
       "      <td>{'path': 'videos/image_front_episode_000005.mp...</td>\n",
       "    </tr>\n",
       "    <tr>\n",
       "      <th>2657</th>\n",
       "      <td>[0.42421052, -0.12160326, -5.3213058, 1.046133...</td>\n",
       "      <td>[-24.873047, 94.833984, 62.314453, 65.83008, -...</td>\n",
       "      <td>5</td>\n",
       "      <td>348</td>\n",
       "      <td>11.028941</td>\n",
       "      <td>False</td>\n",
       "      <td>2657</td>\n",
       "      <td>{'path': 'videos/image_top_episode_000005.mp4'...</td>\n",
       "      <td>{'path': 'videos/image_front_episode_000005.mp...</td>\n",
       "    </tr>\n",
       "    <tr>\n",
       "      <th>2658</th>\n",
       "      <td>[0.42421496, -0.1216018, -5.321311, 1.04614, -...</td>\n",
       "      <td>[-24.873047, 94.833984, 62.314453, 65.83008, -...</td>\n",
       "      <td>5</td>\n",
       "      <td>349</td>\n",
       "      <td>11.060634</td>\n",
       "      <td>True</td>\n",
       "      <td>2658</td>\n",
       "      <td>{'path': 'videos/image_top_episode_000005.mp4'...</td>\n",
       "      <td>{'path': 'videos/image_front_episode_000005.mp...</td>\n",
       "    </tr>\n",
       "  </tbody>\n",
       "</table>\n",
       "<p>2659 rows × 9 columns</p>\n",
       "</div>"
      ],
      "text/plain": [
       "                                      observation.state  \\\n",
       "0     [0.07389037, 0.26932847, -6.5935144, 1.0578214...   \n",
       "1     [0.07045941, 0.23433155, -6.481187, 1.0690894,...   \n",
       "2     [0.06931645, 0.20509058, -6.383348, 1.0560966,...   \n",
       "3     [0.06931302, 0.17766452, -6.302839, 1.0302716,...   \n",
       "4     [0.06893597, 0.15063426, -6.240298, 0.9993672,...   \n",
       "...                                                 ...   \n",
       "2654  [0.42263815, -0.11853333, -5.3212786, 1.047656...   \n",
       "2655  [0.42265168, -0.12006875, -5.321289, 1.0461272...   \n",
       "2656  [0.4226674, -0.121603645, -5.321298, 1.0461314...   \n",
       "2657  [0.42421052, -0.12160326, -5.3213058, 1.046133...   \n",
       "2658  [0.42421496, -0.1216018, -5.321311, 1.04614, -...   \n",
       "\n",
       "                                                 action  episode_index  \\\n",
       "0     [-4.482422, 107.92969, 114.697266, 57.74414, -...              0   \n",
       "1     [-4.482422, 107.92969, 114.697266, 57.83203, -...              0   \n",
       "2     [-4.3945312, 107.92969, 114.697266, 57.83203, ...              0   \n",
       "3     [-4.482422, 107.92969, 114.697266, 57.83203, -...              0   \n",
       "4     [-4.482422, 107.92969, 114.697266, 57.83203, -...              0   \n",
       "...                                                 ...            ...   \n",
       "2654  [-24.785156, 95.009766, 62.314453, 65.91797, -...              5   \n",
       "2655  [-24.785156, 94.921875, 62.314453, 65.83008, -...              5   \n",
       "2656  [-24.785156, 94.833984, 62.314453, 65.83008, -...              5   \n",
       "2657  [-24.873047, 94.833984, 62.314453, 65.83008, -...              5   \n",
       "2658  [-24.873047, 94.833984, 62.314453, 65.83008, -...              5   \n",
       "\n",
       "      frame_index  timestamp  next.done  index  \\\n",
       "0               0   0.000000      False      0   \n",
       "1               1   0.033292      False      1   \n",
       "2               2   0.066583      False      2   \n",
       "3               3   0.099875      False      3   \n",
       "4               4   0.133167      False      4   \n",
       "...           ...        ...        ...    ...   \n",
       "2654          345  10.933865      False   2654   \n",
       "2655          346  10.965556      False   2655   \n",
       "2656          347  10.997249      False   2656   \n",
       "2657          348  11.028941      False   2657   \n",
       "2658          349  11.060634       True   2658   \n",
       "\n",
       "                                 observation.images.top  \\\n",
       "0     {'path': 'videos/image_top_episode_000000.mp4'...   \n",
       "1     {'path': 'videos/image_top_episode_000000.mp4'...   \n",
       "2     {'path': 'videos/image_top_episode_000000.mp4'...   \n",
       "3     {'path': 'videos/image_top_episode_000000.mp4'...   \n",
       "4     {'path': 'videos/image_top_episode_000000.mp4'...   \n",
       "...                                                 ...   \n",
       "2654  {'path': 'videos/image_top_episode_000005.mp4'...   \n",
       "2655  {'path': 'videos/image_top_episode_000005.mp4'...   \n",
       "2656  {'path': 'videos/image_top_episode_000005.mp4'...   \n",
       "2657  {'path': 'videos/image_top_episode_000005.mp4'...   \n",
       "2658  {'path': 'videos/image_top_episode_000005.mp4'...   \n",
       "\n",
       "                               observation.images.front  \n",
       "0     {'path': 'videos/image_front_episode_000000.mp...  \n",
       "1     {'path': 'videos/image_front_episode_000000.mp...  \n",
       "2     {'path': 'videos/image_front_episode_000000.mp...  \n",
       "3     {'path': 'videos/image_front_episode_000000.mp...  \n",
       "4     {'path': 'videos/image_front_episode_000000.mp...  \n",
       "...                                                 ...  \n",
       "2654  {'path': 'videos/image_front_episode_000005.mp...  \n",
       "2655  {'path': 'videos/image_front_episode_000005.mp...  \n",
       "2656  {'path': 'videos/image_front_episode_000005.mp...  \n",
       "2657  {'path': 'videos/image_front_episode_000005.mp...  \n",
       "2658  {'path': 'videos/image_front_episode_000005.mp...  \n",
       "\n",
       "[2659 rows x 9 columns]"
      ]
     },
     "execution_count": 11,
     "metadata": {},
     "output_type": "execute_result"
    }
   ],
   "source": [
    "df_demo"
   ]
  },
  {
   "cell_type": "code",
   "execution_count": 6,
   "metadata": {},
   "outputs": [],
   "source": [
    "list_actions = list(df_demo[\"action\"])"
   ]
  },
  {
   "cell_type": "code",
   "execution_count": 7,
   "metadata": {},
   "outputs": [
    {
     "data": {
      "text/plain": [
       "39693"
      ]
     },
     "execution_count": 7,
     "metadata": {},
     "output_type": "execute_result"
    }
   ],
   "source": [
    "len(list_actions)"
   ]
  },
  {
   "cell_type": "code",
   "execution_count": 12,
   "metadata": {},
   "outputs": [],
   "source": [
    "list_obs = list(df_demo[\"observation.state\"])"
   ]
  },
  {
   "cell_type": "code",
   "execution_count": 13,
   "metadata": {},
   "outputs": [
    {
     "data": {
      "text/plain": [
       "array([ 0.07389037,  0.26932847, -6.5935144 ,  1.0578214 , -1.4270948 ,\n",
       "       -0.5778052 ], dtype=float32)"
      ]
     },
     "execution_count": 13,
     "metadata": {},
     "output_type": "execute_result"
    }
   ],
   "source": [
    "list_obs[0]"
   ]
  },
  {
   "cell_type": "code",
   "execution_count": 8,
   "metadata": {},
   "outputs": [
    {
     "ename": "RuntimeError",
     "evalue": "`launch_passive` requires that the Python script be run under `mjpython` on macOS",
     "output_type": "error",
     "traceback": [
      "\u001b[0;31m---------------------------------------------------------------------------\u001b[0m",
      "\u001b[0;31mRuntimeError\u001b[0m                              Traceback (most recent call last)",
      "Input \u001b[0;32mIn [8]\u001b[0m, in \u001b[0;36m<cell line: 1>\u001b[0;34m()\u001b[0m\n\u001b[0;32m----> 1\u001b[0m env \u001b[38;5;241m=\u001b[39m \u001b[43mgym\u001b[49m\u001b[38;5;241;43m.\u001b[39;49m\u001b[43mmake\u001b[49m\u001b[43m(\u001b[49m\u001b[38;5;124;43m\"\u001b[39;49m\u001b[38;5;124;43mGPickPlaceCube-v0\u001b[39;49m\u001b[38;5;124;43m\"\u001b[39;49m\u001b[43m,\u001b[49m\u001b[43m \u001b[49m\u001b[43mrender_mode\u001b[49m\u001b[43m \u001b[49m\u001b[38;5;241;43m=\u001b[39;49m\u001b[43m \u001b[49m\u001b[38;5;124;43m\"\u001b[39;49m\u001b[38;5;124;43mhuman\u001b[39;49m\u001b[38;5;124;43m\"\u001b[39;49m\u001b[43m)\u001b[49m\u001b[38;5;66;03m#, observation_mode=\"state\", render_mode=\"human\", action_mode=\"ee\")\u001b[39;00m\n\u001b[1;32m      2\u001b[0m env\u001b[38;5;241m.\u001b[39mreset()\n\u001b[1;32m      4\u001b[0m max_step \u001b[38;5;241m=\u001b[39m \u001b[38;5;241m10000\u001b[39m\n",
      "File \u001b[0;32m~/anaconda3/envs/dcil_env/lib/python3.9/site-packages/gymnasium/envs/registration.py:802\u001b[0m, in \u001b[0;36mmake\u001b[0;34m(id, max_episode_steps, autoreset, apply_api_compatibility, disable_env_checker, **kwargs)\u001b[0m\n\u001b[1;32m    799\u001b[0m     render_mode \u001b[38;5;241m=\u001b[39m \u001b[38;5;28;01mNone\u001b[39;00m\n\u001b[1;32m    801\u001b[0m \u001b[38;5;28;01mtry\u001b[39;00m:\n\u001b[0;32m--> 802\u001b[0m     env \u001b[38;5;241m=\u001b[39m \u001b[43menv_creator\u001b[49m\u001b[43m(\u001b[49m\u001b[38;5;241;43m*\u001b[39;49m\u001b[38;5;241;43m*\u001b[39;49m\u001b[43menv_spec_kwargs\u001b[49m\u001b[43m)\u001b[49m\n\u001b[1;32m    803\u001b[0m \u001b[38;5;28;01mexcept\u001b[39;00m \u001b[38;5;167;01mTypeError\u001b[39;00m \u001b[38;5;28;01mas\u001b[39;00m e:\n\u001b[1;32m    804\u001b[0m     \u001b[38;5;28;01mif\u001b[39;00m (\n\u001b[1;32m    805\u001b[0m         \u001b[38;5;28mstr\u001b[39m(e)\u001b[38;5;241m.\u001b[39mfind(\u001b[38;5;124m\"\u001b[39m\u001b[38;5;124mgot an unexpected keyword argument \u001b[39m\u001b[38;5;124m'\u001b[39m\u001b[38;5;124mrender_mode\u001b[39m\u001b[38;5;124m'\u001b[39m\u001b[38;5;124m\"\u001b[39m) \u001b[38;5;241m>\u001b[39m\u001b[38;5;241m=\u001b[39m \u001b[38;5;241m0\u001b[39m\n\u001b[1;32m    806\u001b[0m         \u001b[38;5;129;01mand\u001b[39;00m apply_human_rendering\n\u001b[1;32m    807\u001b[0m     ):\n",
      "File \u001b[0;32m~/Documents/Research/robotics/github_repos/gym-lowcostrobot/gym_lowcostrobot/envs/pick_place_cube_env_dcil.py:85\u001b[0m, in \u001b[0;36mGPickPlaceCubeEnv.__init__\u001b[0;34m(self, **kwargs)\u001b[0m\n\u001b[1;32m     84\u001b[0m \u001b[38;5;28;01mdef\u001b[39;00m \u001b[38;5;21m__init__\u001b[39m(\u001b[38;5;28mself\u001b[39m, \u001b[38;5;241m*\u001b[39m\u001b[38;5;241m*\u001b[39mkwargs):\n\u001b[0;32m---> 85\u001b[0m \t\u001b[38;5;28;43msuper\u001b[39;49m\u001b[43m(\u001b[49m\u001b[43m)\u001b[49m\u001b[38;5;241;43m.\u001b[39;49m\u001b[38;5;21;43m__init__\u001b[39;49m\u001b[43m(\u001b[49m\u001b[38;5;241;43m*\u001b[39;49m\u001b[38;5;241;43m*\u001b[39;49m\u001b[43mkwargs\u001b[49m\u001b[43m)\u001b[49m\n\u001b[1;32m     87\u001b[0m \t\u001b[38;5;66;03m# obs dim = qpos arm (6) + qvel arm (6) + end-effector pos (3) + object pos (3) \u001b[39;00m\n\u001b[1;32m     88\u001b[0m \t\u001b[38;5;28mself\u001b[39m\u001b[38;5;241m.\u001b[39m_obs_dim \u001b[38;5;241m=\u001b[39m (\u001b[38;5;241m6\u001b[39m \u001b[38;5;241m+\u001b[39m \u001b[38;5;241m6\u001b[39m \u001b[38;5;241m+\u001b[39m \u001b[38;5;241m3\u001b[39m \u001b[38;5;241m+\u001b[39m \u001b[38;5;241m3\u001b[39m)\n",
      "File \u001b[0;32m~/Documents/Research/robotics/github_repos/gym-lowcostrobot/gym_lowcostrobot/envs/pick_place_cube_env.py:109\u001b[0m, in \u001b[0;36mPickPlaceCubeEnv.__init__\u001b[0;34m(self, observation_mode, action_mode, render_mode)\u001b[0m\n\u001b[1;32m    107\u001b[0m \u001b[38;5;28mself\u001b[39m\u001b[38;5;241m.\u001b[39mrender_mode \u001b[38;5;241m=\u001b[39m render_mode\n\u001b[1;32m    108\u001b[0m \u001b[38;5;28;01mif\u001b[39;00m \u001b[38;5;28mself\u001b[39m\u001b[38;5;241m.\u001b[39mrender_mode \u001b[38;5;241m==\u001b[39m \u001b[38;5;124m\"\u001b[39m\u001b[38;5;124mhuman\u001b[39m\u001b[38;5;124m\"\u001b[39m:\n\u001b[0;32m--> 109\u001b[0m     \u001b[38;5;28mself\u001b[39m\u001b[38;5;241m.\u001b[39mviewer \u001b[38;5;241m=\u001b[39m \u001b[43mmujoco\u001b[49m\u001b[38;5;241;43m.\u001b[39;49m\u001b[43mviewer\u001b[49m\u001b[38;5;241;43m.\u001b[39;49m\u001b[43mlaunch_passive\u001b[49m\u001b[43m(\u001b[49m\u001b[38;5;28;43mself\u001b[39;49m\u001b[38;5;241;43m.\u001b[39;49m\u001b[43mmodel\u001b[49m\u001b[43m,\u001b[49m\u001b[43m \u001b[49m\u001b[38;5;28;43mself\u001b[39;49m\u001b[38;5;241;43m.\u001b[39;49m\u001b[43mdata\u001b[49m\u001b[43m)\u001b[49m\n\u001b[1;32m    110\u001b[0m     \u001b[38;5;28mself\u001b[39m\u001b[38;5;241m.\u001b[39mviewer\u001b[38;5;241m.\u001b[39mcam\u001b[38;5;241m.\u001b[39mazimuth \u001b[38;5;241m=\u001b[39m \u001b[38;5;241m-\u001b[39m\u001b[38;5;241m75\u001b[39m\n\u001b[1;32m    111\u001b[0m     \u001b[38;5;28mself\u001b[39m\u001b[38;5;241m.\u001b[39mviewer\u001b[38;5;241m.\u001b[39mcam\u001b[38;5;241m.\u001b[39mdistance \u001b[38;5;241m=\u001b[39m \u001b[38;5;241m1\u001b[39m\n",
      "File \u001b[0;32m~/anaconda3/envs/dcil_env/lib/python3.9/site-packages/mujoco/viewer.py:481\u001b[0m, in \u001b[0;36mlaunch_passive\u001b[0;34m(model, data, key_callback, show_left_ui, show_right_ui)\u001b[0m\n\u001b[1;32m    479\u001b[0m \u001b[38;5;28;01melse\u001b[39;00m:\n\u001b[1;32m    480\u001b[0m   \u001b[38;5;28;01mif\u001b[39;00m \u001b[38;5;129;01mnot\u001b[39;00m \u001b[38;5;28misinstance\u001b[39m(_MJPYTHON, _MjPythonBase):\n\u001b[0;32m--> 481\u001b[0m     \u001b[38;5;28;01mraise\u001b[39;00m \u001b[38;5;167;01mRuntimeError\u001b[39;00m(\n\u001b[1;32m    482\u001b[0m         \u001b[38;5;124m'\u001b[39m\u001b[38;5;124m`launch_passive` requires that the Python script be run under \u001b[39m\u001b[38;5;124m'\u001b[39m\n\u001b[1;32m    483\u001b[0m         \u001b[38;5;124m'\u001b[39m\u001b[38;5;124m`mjpython` on macOS\u001b[39m\u001b[38;5;124m'\u001b[39m)\n\u001b[1;32m    484\u001b[0m   _MJPYTHON\u001b[38;5;241m.\u001b[39mlaunch_on_ui_thread(\n\u001b[1;32m    485\u001b[0m       model,\n\u001b[1;32m    486\u001b[0m       data,\n\u001b[0;32m   (...)\u001b[0m\n\u001b[1;32m    490\u001b[0m       show_right_ui,\n\u001b[1;32m    491\u001b[0m   )\n\u001b[1;32m    493\u001b[0m \u001b[38;5;28;01mreturn\u001b[39;00m handle_return\u001b[38;5;241m.\u001b[39mget()\n",
      "\u001b[0;31mRuntimeError\u001b[0m: `launch_passive` requires that the Python script be run under `mjpython` on macOS"
     ]
    }
   ],
   "source": [
    "env = gym.make(\"GPickPlaceCube-v0\", render_mode = \"human\")#, observation_mode=\"state\", render_mode=\"human\", action_mode=\"ee\")\n",
    "env.reset()\n",
    "\n",
    "max_step = 10000\n",
    "for action in list_actions: \n",
    "    observation, reward, terminated, truncated, info = env.step(action)\n",
    "\n",
    "    # print(\"Observation:\", observation)\n",
    "    # print(\"Reward:\", reward)\n",
    "\n",
    "    env.render()\n",
    "    if terminated:\n",
    "        if not truncated:\n",
    "            print(f\"Cube reached the target position at step: {env.current_step} with reward {reward}\")\n",
    "        else:\n",
    "            print(\n",
    "                f\"Cube didn't reached the target position at step: {env.current_step} with reward {reward} but was truncated\"\n",
    "            )\n",
    "        env.reset()"
   ]
  },
  {
   "cell_type": "code",
   "execution_count": null,
   "metadata": {},
   "outputs": [],
   "source": []
  }
 ],
 "metadata": {
  "kernelspec": {
   "display_name": "dcil_env",
   "language": "python",
   "name": "python3"
  },
  "language_info": {
   "codemirror_mode": {
    "name": "ipython",
    "version": 3
   },
   "file_extension": ".py",
   "mimetype": "text/x-python",
   "name": "python",
   "nbconvert_exporter": "python",
   "pygments_lexer": "ipython3",
   "version": "3.9.7"
  }
 },
 "nbformat": 4,
 "nbformat_minor": 2
}
